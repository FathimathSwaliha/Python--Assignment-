{
  "nbformat": 4,
  "nbformat_minor": 0,
  "metadata": {
    "colab": {
      "provenance": []
    },
    "kernelspec": {
      "name": "python3",
      "display_name": "Python 3"
    },
    "language_info": {
      "name": "python"
    }
  },
  "cells": [
    {
      "cell_type": "code",
      "source": [
        "P\n",
        "if s==reverse:\n",
        "  print(True)\n",
        "else:\n",
        "  print(False)"
      ],
      "metadata": {
        "colab": {
          "base_uri": "https://localhost:8080/"
        },
        "id": "2AB6DttR0SYa",
        "outputId": "f9eb6257-4004-4462-c9f2-443dd019c4fb"
      },
      "execution_count": 65,
      "outputs": [
        {
          "output_type": "stream",
          "name": "stdout",
          "text": [
            "Enter the string:Naan\n",
            "True\n"
          ]
        }
      ]
    },
    {
      "cell_type": "code",
      "source": [
        "Input=str(input(\"Input:\"))\n",
        "Pattern=str(input(\"Pattern:\"))\n",
        "output=string.count(Pattern)\n",
        "output"
      ],
      "metadata": {
        "colab": {
          "base_uri": "https://localhost:8080/"
        },
        "id": "BDC04GeX2sUS",
        "outputId": "0881c79b-e35c-4982-a0cd-6f10b462cc26"
      },
      "execution_count": 66,
      "outputs": [
        {
          "name": "stdout",
          "output_type": "stream",
          "text": [
            "Input:ABCDCDC\n",
            "Pattern:CD\n"
          ]
        },
        {
          "output_type": "execute_result",
          "data": {
            "text/plain": [
              "2"
            ]
          },
          "metadata": {},
          "execution_count": 66
        }
      ]
    },
    {
      "cell_type": "code",
      "source": [
        "A=[]\n",
        "for i in range(1,11):\n",
        "  print(\"Game\",i,\":\")\n",
        "  player1=str(input(\"Player1:\"))\n",
        "  player2=str(input(\"Player2:\"))\n",
        "  if (player1==\"R\" and player2==\"S\"):\n",
        "    print(\"player1 wins\")\n",
        "    A.append(1)\n",
        "\n",
        "  elif (player1==\"P\" and player2==\"R\"):\n",
        "   print(\"player1 wins\")\n",
        "   A.append(1)\n",
        "  elif (player1==\"S\" and player2==\"P\"):\n",
        "    print(\"player1 wins\")\n",
        "    A.append(1)\n",
        "  elif (player1==player2):\n",
        "    print(\"Draw\")\n",
        "    A.append(0)\n",
        "  else:\n",
        "    print(\"player2 wins\")\n",
        "    A.append(2)\n",
        "Player1score=A.count(1)\n",
        "Player2score=A.count(2)\n",
        "if Player1score > Player2score:\n",
        "  print(\"Final Winner:Player1\")\n",
        "else:\n",
        "    print(\"Final Winner:Player2\")\n",
        "\n",
        ""
      ],
      "metadata": {
        "colab": {
          "base_uri": "https://localhost:8080/"
        },
        "id": "dulA70zg21bb",
        "outputId": "3e2d4691-ee37-4074-f745-a1259a17b7fa"
      },
      "execution_count": 67,
      "outputs": [
        {
          "output_type": "stream",
          "name": "stdout",
          "text": [
            "Game 1 :\n",
            "Player1:R\n",
            "Player2:R\n",
            "Draw\n",
            "Game 2 :\n",
            "Player1:R\n",
            "Player2:P\n",
            "player2 wins\n",
            "Game 3 :\n",
            "Player1:R\n",
            "Player2:S\n",
            "player1 wins\n",
            "Game 4 :\n",
            "Player1:P\n",
            "Player2:R\n",
            "player1 wins\n",
            "Game 5 :\n",
            "Player1:P\n",
            "Player2:S\n",
            "player2 wins\n",
            "Game 6 :\n",
            "Player1:S\n",
            "Player2:R\n",
            "player2 wins\n",
            "Game 7 :\n",
            "Player1:S\n",
            "Player2:P\n",
            "player1 wins\n",
            "Game 8 :\n",
            "Player1:S\n",
            "Player2:S\n",
            "Draw\n",
            "Game 9 :\n",
            "Player1:P\n",
            "Player2:P\n",
            "Draw\n",
            "Game 10 :\n",
            "Player1:R\n",
            "Player2:S\n",
            "player1 wins\n",
            "Final Winner:Player1\n"
          ]
        }
      ]
    }
  ]
}